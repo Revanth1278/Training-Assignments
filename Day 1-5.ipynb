{
 "cells": [
  {
   "cell_type": "markdown",
   "id": "6f19ca9e-a0ef-40fd-af71-1d51c001b53f",
   "metadata": {},
   "source": [
    "#### Day-1"
   ]
  },
  {
   "cell_type": "code",
   "execution_count": 9,
   "id": "aab07c9d-2f12-4943-8e31-d6d066503112",
   "metadata": {},
   "outputs": [
    {
     "name": "stdout",
     "output_type": "stream",
     "text": [
      "Integer Variable: 10, Type: <class 'int'>\n",
      "Float Variable: 20.5, Type: <class 'float'>\n",
      "String Variable: Hello, World!, Type: <class 'str'>\n",
      "Boolean Variable: True, Type: <class 'bool'>\n"
     ]
    }
   ],
   "source": [
    "integer_var = 10\n",
    "float_var = 20.5\n",
    "string_var = \"Hello, World!\"\n",
    "boolean_var = True\n",
    "\n",
    "print(f\"Integer Variable: {integer_var}, Type: {type(integer_var)}\")\n",
    "print(f\"Float Variable: {float_var}, Type: {type(float_var)}\")\n",
    "print(f\"String Variable: {string_var}, Type: {type(string_var)}\")\n",
    "print(f\"Boolean Variable: {boolean_var}, Type: {type(boolean_var)}\")"
   ]
  },
  {
   "cell_type": "markdown",
   "id": "11a133ae-5030-4ba2-9cea-fdefd441a7e4",
   "metadata": {},
   "source": [
    "#### Day-2"
   ]
  },
  {
   "cell_type": "code",
   "execution_count": 13,
   "id": "b37af9d7-2d7f-4c85-85bb-5474884584c3",
   "metadata": {},
   "outputs": [
    {
     "name": "stdout",
     "output_type": "stream",
     "text": [
      "First element: 1\n",
      "Third element: 3\n",
      "Last element: 5\n",
      "First element: apple\n",
      "Second element: banana\n",
      "Fourth element: date\n",
      "Name: Alice\n",
      "City: New York\n",
      "Profession: Engineer\n"
     ]
    }
   ],
   "source": [
    "###List\n",
    "my_list = [1, 2, 3, 4, 5]\n",
    "\n",
    "print(f\"First element: {my_list[0]}\")\n",
    "print(f\"Third element: {my_list[2]}\")\n",
    "print(f\"Last element: {my_list[-1]}\")\n",
    "\n",
    "###Tuple\n",
    "my_tuple = (\"apple\", \"banana\", \"cherry\", \"date\", \"elderberry\")\n",
    "\n",
    "print(f\"First element: {my_tuple[0]}\")\n",
    "print(f\"Second element: {my_tuple[1]}\")\n",
    "print(f\"Fourth element: {my_tuple[3]}\")\n",
    "\n",
    "###Dictionary\n",
    "my_dict = {\n",
    "    \"name\": \"Alice\",\n",
    "    \"age\": 25,\n",
    "    \"city\": \"New York\",\n",
    "    \"country\": \"USA\",\n",
    "    \"profession\": \"Engineer\"\n",
    "}\n",
    "\n",
    "print(f\"Name: {my_dict['name']}\")\n",
    "print(f\"City: {my_dict['city']}\")\n",
    "print(f\"Profession: {my_dict['profession']}\")"
   ]
  },
  {
   "cell_type": "markdown",
   "id": "ade39ba7-748d-40ce-9b61-835a33444dd8",
   "metadata": {},
   "source": [
    "#### Day-3"
   ]
  },
  {
   "cell_type": "code",
   "execution_count": 16,
   "id": "3d355c3f-5d7e-45d6-ae8e-6d32eccfd309",
   "metadata": {},
   "outputs": [
    {
     "name": "stdin",
     "output_type": "stream",
     "text": [
      "Enter marks for subject 1:  90\n",
      "Enter marks for subject 2:  85\n",
      "Enter marks for subject 3:  75\n"
     ]
    },
    {
     "name": "stdout",
     "output_type": "stream",
     "text": [
      "Grade: B\n"
     ]
    }
   ],
   "source": [
    "def calculate_grade(marks):\n",
    "    average = sum(marks) / len(marks)\n",
    "    if average >= 90:\n",
    "        return \"Grade: A\"\n",
    "    elif average >= 80:\n",
    "        return \"Grade: B\"\n",
    "    elif average >= 70:\n",
    "        return \"Grade: C\"\n",
    "    else:\n",
    "        return \"Grade: Fail\"\n",
    "marks = []\n",
    "for i in range(3):\n",
    "    mark = float(input(f\"Enter marks for subject {i+1}: \"))\n",
    "    marks.append(mark)\n",
    "grade = calculate_grade(marks)\n",
    "print(grade)"
   ]
  },
  {
   "cell_type": "markdown",
   "id": "1ebd43a8-5c54-45cc-8e55-4874f15f3835",
   "metadata": {},
   "source": [
    "#### Day-4"
   ]
  },
  {
   "cell_type": "code",
   "execution_count": 19,
   "id": "51f70cf5-31c4-4c5e-ab04-b77b8caf7d89",
   "metadata": {},
   "outputs": [
    {
     "name": "stdin",
     "output_type": "stream",
     "text": [
      "Enter a positive integer:  10\n"
     ]
    },
    {
     "name": "stdout",
     "output_type": "stream",
     "text": [
      "The sum of all even numbers between 1 and 10 is: 30\n"
     ]
    }
   ],
   "source": [
    "def sum_of_even_numbers(n):\n",
    "    total = 0\n",
    "    for num in range(2, n+1, 2):\n",
    "        total += num\n",
    "    return total\n",
    "n = int(input(\"Enter a positive integer: \"))\n",
    "if n > 0:\n",
    "    result = sum_of_even_numbers(n)\n",
    "    print(f\"The sum of all even numbers between 1 and {n} is: {result}\")\n",
    "else:\n",
    "    print(\"Please enter a positive integer.\")"
   ]
  },
  {
   "cell_type": "markdown",
   "id": "7c755a82-b697-4c2c-973e-dc8047245be9",
   "metadata": {},
   "source": [
    "#### Day-5"
   ]
  },
  {
   "cell_type": "code",
   "execution_count": 24,
   "id": "06ed9021-e942-4cab-ab27-d9db62dacc70",
   "metadata": {},
   "outputs": [
    {
     "name": "stdin",
     "output_type": "stream",
     "text": [
      "Enter a positive integer:  20\n"
     ]
    },
    {
     "name": "stdout",
     "output_type": "stream",
     "text": [
      "Numbers from 1 to 20 using a for loop:\n",
      "1\n",
      "2\n",
      "3\n",
      "4\n",
      "5\n",
      "6\n",
      "7\n",
      "8\n",
      "9\n",
      "10\n",
      "11\n",
      "12\n",
      "13\n",
      "14\n",
      "15\n",
      "16\n",
      "17\n",
      "18\n",
      "19\n",
      "20\n",
      "The sum of all numbers from 1 to 20 using a while loop is: 210\n"
     ]
    },
    {
     "name": "stdin",
     "output_type": "stream",
     "text": [
      "Enter a positive integer:  15\n"
     ]
    },
    {
     "name": "stdout",
     "output_type": "stream",
     "text": [
      "The square of 15 is: 225\n"
     ]
    }
   ],
   "source": [
    "### 1\n",
    "n = int(input(\"Enter a positive integer: \"))\n",
    "print(\"Numbers from 1 to\", n, \"using a for loop:\")\n",
    "for i in range(1, n+1):\n",
    "    print(i)\n",
    "sum_of_numbers = 0\n",
    "i = 1\n",
    "while i <= n:\n",
    "    sum_of_numbers += i\n",
    "    i += 1\n",
    "\n",
    "print(\"The sum of all numbers from 1 to\", n, \"using a while loop is:\", sum_of_numbers)\n",
    "\n",
    "### 2\n",
    "def calculate_square(n):\n",
    "    return n ** 2\n",
    "n = int(input(\"Enter a positive integer: \"))\n",
    "result = calculate_square(n)\n",
    "print(f\"The square of {n} is: {result}\")"
   ]
  }
 ],
 "metadata": {
  "kernelspec": {
   "display_name": "Python [conda env:base] *",
   "language": "python",
   "name": "conda-base-py"
  },
  "language_info": {
   "codemirror_mode": {
    "name": "ipython",
    "version": 3
   },
   "file_extension": ".py",
   "mimetype": "text/x-python",
   "name": "python",
   "nbconvert_exporter": "python",
   "pygments_lexer": "ipython3",
   "version": "3.12.7"
  }
 },
 "nbformat": 4,
 "nbformat_minor": 5
}
